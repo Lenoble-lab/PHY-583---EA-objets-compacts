{
 "cells": [
  {
   "cell_type": "markdown",
   "metadata": {},
   "source": [
    "# Calcul des diagrammes de plongement\n",
    "Le but est de calculer le diagramme de plongement et de mettre en évidence une masse maximun. On se place dans le cas où l'étoile est homogène. Le système TOV s'intégre alors facilement et on a la forme de l'espace temps. \n",
    "Dans ce cas, la géométrie de l'espace temps ne dépend que de deux paramètres (R,M) ou (M, $\\Xi$)"
   ]
  },
  {
   "cell_type": "code",
   "execution_count": 73,
   "metadata": {},
   "outputs": [],
   "source": [
    "from mpl_toolkits.mplot3d import Axes3D\n",
    "import matplotlib.pyplot as plt\n",
    "import numpy as np\n",
    "import ipywidgets as widgets\n",
    "\n",
    "%matplotlib notebook"
   ]
  },
  {
   "cell_type": "markdown",
   "metadata": {},
   "source": [
    "### Intégration du sytème TOV dans le cas d'une sphère homogène\n",
    "\n",
    "$$ m(r)\t=\\begin{cases}\n",
    "M(r/R)^{3} & pour\\,\\,r\\leq R\\\\\n",
    "M & pour\\,\\,r\\geq R\n",
    "\\end{cases}\\\\\n",
    "P(r)\t=\\begin{cases}\n",
    "\\rho_{c}\\frac{\\sqrt{1-2\\Xi(r/R){{}^2}}-\\sqrt{1-2\\Xi}}{3\\sqrt{1-2\\Xi}-\\sqrt{1-2\\Xi(r/R){{}^2}}} & pour\\,\\,r\\leq R\\\\\n",
    "0 & pour\\,\\,r\\geq R\n",
    "\\end{cases}\\\\\n",
    "\\Phi(r)\t=\\begin{cases}\n",
    "c{{}^2}ln\\left(\\frac{3\\sqrt{1-2\\Xi}-\\sqrt{1-2\\Xi(r/R){{}^2}}}{2}\\right) & pour\\,\\,r\\leq R\\\\\n",
    "\\frac{c{{}^2}}{2}ln\\left(1-2\\Xi\\frac{R}{r}\\right) & pour\\,\\,r\\geq R\n",
    "\\end{cases} $$ \n",
    "\n",
    "\n",
    "La métrique en coordonnée de Schwarschild s'exprime avec : \n",
    "$$ N(r)=e^{\\frac{\\Phi(r)}{c^{2}}}$$ et $$ A(r)=\\frac{1}{\\sqrt{1-\\frac{2Gm(r)}{rc^{2}}}}$$"
   ]
  },
  {
   "cell_type": "code",
   "execution_count": 69,
   "metadata": {},
   "outputs": [],
   "source": [
    "c = 1\n",
    "G = 1\n",
    "\n",
    "def m(r, R, M):\n",
    "    if r >=R : return M\n",
    "    else : return M * (r/R)**3\n",
    "    \n",
    "def phi(r, R, M):\n",
    "    xi = G*M/(R*c**2)\n",
    "    if r >= R : return c**2 / 2 * np.log(1 - 2 * xi *R/r)\n",
    "    else : return c**2 * np.log((3*np.sqrt(1 - 2*xi)-np.sqrt(1-2*xi * (r/R)**2))/2)\n",
    "\n",
    "def P(r, R, M):\n",
    "    xi = G*M/(R*c**2)\n",
    "    if r <= R:\n",
    "        rho = M/(4/3 * np.pi * R**3)\n",
    "        return rho * c**2 * (np.sqrt(1-2*xi*(r/R)**2)-np.sqrt(1-2*xi))/(3*np.sqrt(1-2*xi) - np.sqrt(1-2*xi*(r/R)**2))\n",
    "    else : return 0\n",
    "    \n",
    "def A(r, R, M):   \n",
    "    if r >= R:\n",
    "        R_c = 2 * G * M/c**2\n",
    "        return -1/np.sqrt(1-R_c/r)\n",
    "    elif r>0:\n",
    "        m_r = m(r,R,M)\n",
    "        #print(1-R_c/r, '   ', r)\n",
    "        return -1/np.sqrt(1-2*G*m_r/(r * c**2))"
   ]
  },
  {
   "cell_type": "markdown",
   "metadata": {},
   "source": [
    "### Graph dans le plan des courbes\n",
    "On observe bien une compacité maximale au-delà de laquelle l'équilibre n'est plus possible pour $\\Xi = \\frac{4}{9}$"
   ]
  },
  {
   "cell_type": "code",
   "execution_count": 92,
   "metadata": {
    "scrolled": false
   },
   "outputs": [
    {
     "data": {
      "application/vnd.jupyter.widget-view+json": {
       "model_id": "730000bce00b48b1ba83e5dd3a6f3cd9",
       "version_major": 2,
       "version_minor": 0
      },
      "text/plain": [
       "interactive(children=(FloatLogSlider(value=1.0, description='xi', max=0.0, min=-4.0, step=0.2), Button(descrip…"
      ]
     },
     "metadata": {},
     "output_type": "display_data"
    },
    {
     "data": {
      "text/plain": [
       "<function __main__.graph(R, M)>"
      ]
     },
     "execution_count": 92,
     "metadata": {},
     "output_type": "execute_result"
    }
   ],
   "source": [
    "\n",
    "def graph(R, M):   \n",
    "    n_radii = 100\n",
    "    n_angles = 36\n",
    "\n",
    "    xi = G*M/(R*c**2)\n",
    "    print(xi, ' xi')\n",
    "    # Make radii and angles spaces (radius r=0 omitted to eliminate duplication).\n",
    "    radii = np.linspace(0, 10.0, n_radii)\n",
    "    angles = np.linspace(0, 2*np.pi, n_angles, endpoint=False)\n",
    "\n",
    "    # Repeat all angles for each radius.\n",
    "    angles = np.repeat(angles[..., np.newaxis], n_radii, axis=1)\n",
    "\n",
    "    # Convert polar (radii, angles) coords to cartesian (x, y) coords.\n",
    "    # (0, 0) is manually added at this stage,  so there will be no duplicate\n",
    "    # points in the (x, y) plane.\n",
    "    x = np.append(1, (radii*np.cos(angles)).flatten())\n",
    "    y = np.append(1, (radii*np.sin(angles)).flatten())\n",
    "\n",
    "    # Compute z to make the pringle surface.\n",
    "    z = np.vectorize(A)(np.sqrt(x**2 + y**2), R, M)\n",
    "\n",
    "    fig = plt.figure()\n",
    "    ax = fig.gca(projection='3d')\n",
    "\n",
    "    ax.plot_trisurf(x, y, z, linewidth=0.2, antialiased=True)\n",
    "\n",
    "    plt.show()\n",
    "\n",
    "widgets.interact_manual(graph, R = widgets.fixed(1) , M = widgets.FloatLogSlider(base = 10, min=-4, max=0, step = 0.2,  description='xi'))   "
   ]
  }
 ],
 "metadata": {
  "kernelspec": {
   "display_name": "Python 3",
   "language": "python",
   "name": "python3"
  },
  "language_info": {
   "codemirror_mode": {
    "name": "ipython",
    "version": 3
   },
   "file_extension": ".py",
   "mimetype": "text/x-python",
   "name": "python",
   "nbconvert_exporter": "python",
   "pygments_lexer": "ipython3",
   "version": "3.6.5"
  }
 },
 "nbformat": 4,
 "nbformat_minor": 2
}
